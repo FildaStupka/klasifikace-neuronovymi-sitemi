{
 "cells": [
  {
   "cell_type": "code",
   "execution_count": null,
   "metadata": {
    "_cell_guid": "b1076dfc-b9ad-4769-8c92-a6c4dae69d19",
    "_uuid": "8f2839f25d086af736a60e9eeb907d3b93b6e0e5"
   },
   "outputs": [],
   "source": [
    "# import knihoven\n",
    "import numpy as np # lineární algebra, počítání s vektory, maticemi\n",
    "from matplotlib import pyplot as plt # vizualizace grafů, obrázků\n",
    "import pandas as pd # v tomto programu pouze načtení dat, obecně nástroj pro manipulaci s daty\n",
    "from random import randint"
   ]
  },
  {
   "cell_type": "code",
   "execution_count": null,
   "metadata": {},
   "outputs": [],
   "source": [
    "data_pd = pd.read_csv('train.csv') # načtení tréninkových dat pomocí pandas"
   ]
  },
  {
   "cell_type": "code",
   "execution_count": null,
   "metadata": {},
   "outputs": [],
   "source": [
    "data_pd.head() # zobrazení dat "
   ]
  },
  {
   "cell_type": "code",
   "execution_count": null,
   "metadata": {},
   "outputs": [],
   "source": [
    "data = np.array(data_pd) # převod dat z pandas dataframe do numpy array (matice)\n",
    "np.random.shuffle(data) # náhodně zamíchá data\n",
    "m, n = np.shape(data) # m - počet řádků (záznamů), n - počet sloupců (pixely (vstupní data) + label (správná výstupní hodnota))\n",
    "\n",
    "# rozdělení dat na trénovací a vývojová data, aby nedošlo k overfittingu\n",
    "\n",
    "# development set (prvních 1000 řádků), 0 - 1000 bez 1000. záznamu\n",
    "data_dev = data[0:1000].T # .T - transponováno - jeden záznam je nyní jeden sloupec, ne řádek (nutné pro správné násobení matic)\n",
    "Y_dev = data_dev[0] # správné výstupní hodnoty Y (label), [řádky, sloupce], stejný zápis - [0,:] (nultý řádek a všechny sloupce)\n",
    "X_dev = data_dev[1:n] # pixely\n",
    "X_dev = X_dev / 255\n",
    "\n",
    "# training set (zbývající řádky)\n",
    "data_train = data[1000:m].T #data_train = data[1000:m].T\n",
    "Y_train = data_train[0]\n",
    "X_train = data_train[1:n]\n",
    "X_train = X_train / 255"
   ]
  },
  {
   "cell_type": "code",
   "execution_count": null,
   "metadata": {},
   "outputs": [],
   "source": [
    "# počáteční vytvoření náhodných parametrů\n",
    "def inicializace_parametru():\n",
    "    W1 = np.random.rand(16, 784) - 0.5 \n",
    "    # váhové koeficienty první vrstvy\n",
    "    # matice o rozměrech 10 × 784 (každý vstup (pixel) propojený s každým neuronem 1. vrstvy)\n",
    "    # np.random.rand - rozsah [0, 1), - 0.5 -> rozsah [-0.5, 0.5)\n",
    "    b1 = np.random.rand(16,1) - 0.5 # prahové hodnoty první vrstvy (pro každý neuron 1. vrstvy 1)\n",
    "    W2 = np.random.rand(16, 16) - 0.5 # váhy 2. vrstvy (každý neuron z 1. vrstvy propojen s každým neuronem ze 2. vrstvy)\n",
    "    b2 = np.random.rand(16, 1) - 0.5 # prahy 2. vrstvy (pro každý neuron 2. vrstvy 1)\n",
    "    W3 = np.random.rand(10, 16) - 0.5 # váhy 3. vrstvy\n",
    "    b3 = np.random.rand(10, 1) - 0.5 # prahy 3. vrstvy\n",
    "    return W1, b1, W2, b2, W3, b3"
   ]
  },
  {
   "cell_type": "code",
   "execution_count": null,
   "metadata": {},
   "outputs": [],
   "source": [
    "# dopředná propagace\n",
    "\n",
    "def ReLU(X, derivace = False):\n",
    "    if derivace:\n",
    "        return X > 0 # větší než 1 -> true -> 1, menší než 0 -> false -> 0\n",
    "    return np.maximum(0, X)\n",
    "\n",
    "def ReLU_rozepsane(X):\n",
    "    if X <= 0:\n",
    "        v = 0\n",
    "    else:\n",
    "        v = X\n",
    "    return v\n",
    "\n",
    "def softmax(X):\n",
    "    return np.exp(X) / sum(np.exp(X))\n",
    "\n",
    "def dopredna_propagace(W1, b1, W2, b2, W3, b3, X): \n",
    "    Z1 = W1.dot(X) + b1\n",
    "    A1 = ReLU(Z1)\n",
    "    Z2 = W2.dot(A1) + b2\n",
    "    A2 = ReLU(Z2)\n",
    "    Z3 = W3.dot(A2) + b3\n",
    "    A3 = softmax(Z3)\n",
    "    return Z1, A1, Z2, A2, Z3, A3"
   ]
  },
  {
   "cell_type": "code",
   "execution_count": null,
   "metadata": {},
   "outputs": [],
   "source": [
    "# Zpětná propagace\n",
    "\n",
    "def zakoduj_odpoved(Y):\n",
    "    zakodovana_odpoved = np.zeros((Y.size, Y.max() + 1)) # matice (počet záznamů × největší záznam (9) + 1)\n",
    "    zakodovana_odpoved[np.arange(Y.size), Y] = 1\n",
    "    zakodovana_odpoved = zakodovana_odpoved.T\n",
    "    return zakodovana_odpoved\n",
    "\n",
    "def zpetna_propagace(Z1, A1, Z2, W2, A2, W3, A3, X, Y):\n",
    "    m = Y.size\n",
    "    Y = zakoduj_odpoved(Y)\n",
    "    \n",
    "    dZ3 = A3 - Y\n",
    "    dW3 = 1 / m * dZ3.dot(A2.T)\n",
    "    db3 = 1 / m * np.sum(dZ3)\n",
    "    \n",
    "    dZ2 = W3.T.dot(dZ3) * ReLU(Z2, derivace = True)\n",
    "    dW2 = 1 / m * dZ2.dot(A1.T)\n",
    "    db2 = 1 / m * np.sum(dZ2)\n",
    "    \n",
    "    dZ1 = W2.T.dot(dZ2) * ReLU(Z1, derivace = True)\n",
    "    dW1 = 1 / m * dZ1.dot(X.T)\n",
    "    db1 = 1 / m * np.sum(dZ1)\n",
    "    \n",
    "    return dW1, db1, dW2, db2, dW3, db3\n",
    "\n",
    "def uprava_parametru(W1, b1, W2, b2, W3, b3, dW1, db1, dW2, db2, dW3, db3, alpha):\n",
    "    W1 = W1 - alpha * dW1\n",
    "    b1 = b1 - alpha * db1\n",
    "    W2 = W2 - alpha * dW2\n",
    "    b2 = b2 - alpha * db2\n",
    "    W3 = W3 - alpha * dW3\n",
    "    b3 = b3 - alpha * db3\n",
    "    return W1, b1, W2, b2, W3, b3"
   ]
  },
  {
   "cell_type": "code",
   "execution_count": null,
   "metadata": {},
   "outputs": [],
   "source": [
    "def test_samostatne(index, W1, b1, W2, b2, W3, b3, X, Y):\n",
    "    obrazek = X[:, index, None]\n",
    "    _, _, _, _, _, A3 = dopredna_propagace(W1, b1, W2, b2, W3, b3, obrazek)\n",
    "    odhad = odhady(A3)\n",
    "    print('Odhad: ', odhad)\n",
    "    print('Správné: ', Y[index])\n",
    "    \n",
    "    obrazek = obrazek.reshape(28,28) * 255\n",
    "    plt.gray()\n",
    "    plt.imshow(obrazek)\n",
    "    plt.show()\n",
    "    \n",
    "def test(W1, b1, W2, b2, W3, b3, X, Y):\n",
    "    _, _, _, _, _, A3 = dopredna_propagace(W1, b1, W2, b2, W3, b3, X)\n",
    "    odhad = odhady(A3)\n",
    "    presnost = zjisti_presnost(odhad, Y)\n",
    "    return presnost"
   ]
  },
  {
   "cell_type": "code",
   "execution_count": null,
   "metadata": {},
   "outputs": [],
   "source": [
    "def odhady(A):\n",
    "    odhady = np.argmax(A, axis=0)\n",
    "    return odhady\n",
    "\n",
    "def zjisti_presnost(odhady, Y):\n",
    "    return np.sum(odhady == Y) / Y.size\n",
    "\n",
    "#gradientní sestup\n",
    "def gradientni_sestup(X, Y, iterace, alpha):\n",
    "    W1, b1, W2, b2, W3, b3 = inicializace_parametru()\n",
    "    presnosti = np.zeros(iterace)\n",
    "    presnosti_test = np.zeros(iterace)\n",
    "    for i in range(iterace):\n",
    "        Z1, A1, Z2, A2, Z3, A3 = dopredna_propagace(W1, b1, W2, b2, W3, b3, X)\n",
    "        dW1, db1, dW2, db2, dW3, db3 = zpetna_propagace(Z1, A1, Z2, W2, A2, W3, A3, X, Y)\n",
    "        W1, b1, W2, b2, W3, b3 = uprava_parametru(W1, b1, W2, b2, W3, b3, dW1, db1, dW2, db2, dW3, db3, alpha)\n",
    "        \n",
    "        odhad = odhady(A3)\n",
    "        presnost = zjisti_presnost(odhad, Y)\n",
    "        presnosti[i] = presnost\n",
    "        presnosti_test[i] = test(W1, b1, W2, b2, W3, b3, X_dev, Y_dev)\n",
    "        if i % 50 == 0:\n",
    "            print(i, '. iterace')\n",
    "            #print(odhad, Y)\n",
    "            #print(\"Správné hodnoty: \", Y[0:20])\n",
    "            #print(\"Odhadované hodnoty: \", odhad[0:20])\n",
    "            print('Přesnost: ', round(presnost, 3))\n",
    "            print('Přesnost testu: ', round(presnosti_test[i],3))\n",
    "    return W1, b1, W2, b2, W3, b3, presnosti, presnosti_test"
   ]
  },
  {
   "cell_type": "code",
   "execution_count": null,
   "metadata": {},
   "outputs": [],
   "source": [
    "W1, b1, W2, b2, W3, b3, presnosti, presnosti_test = gradientni_sestup(X_train, Y_train, 501, 0.4)"
   ]
  },
  {
   "cell_type": "code",
   "execution_count": null,
   "metadata": {},
   "outputs": [],
   "source": [
    "%matplotlib inline\n",
    "pocet_presnosti = presnosti.size\n",
    "osa_x = np.linspace(0, pocet_presnosti, pocet_presnosti)\n",
    "plt.figure(figsize=(12,6))\n",
    "plt.plot(osa_x, presnosti)\n",
    "plt.plot(osa_x, presnosti_test)\n",
    "plt.xlabel('iterace')\n",
    "plt.ylabel('přesnost')\n",
    "plt.title('Vývoj přesnosti')\n",
    "plt.legend(['Tréninková data', 'Testovací data'], fontsize=\"large\")\n",
    "plt.tight_layout()"
   ]
  },
  {
   "cell_type": "code",
   "execution_count": null,
   "metadata": {},
   "outputs": [],
   "source": [
    "rozsah = 10\n",
    "a = np.random.randint(0,Y_dev.size - rozsah)\n",
    "for i in range(a, a + rozsah):\n",
    "    test_samostatne(i, W1, b1, W2, b2, W3, b3, X_dev, Y_dev)"
   ]
  },
  {
   "cell_type": "code",
   "execution_count": null,
   "metadata": {},
   "outputs": [],
   "source": [
    "presnost = test(W1, b1, W2, b2, W3, b3, X_dev, Y_dev)\n",
    "print('Přesnost: ', round(presnost * 100, 2) ,  ' %')"
   ]
  }
 ],
 "metadata": {
  "kernelspec": {
   "display_name": "Python 3 (ipykernel)",
   "language": "python",
   "name": "python3"
  },
  "language_info": {
   "codemirror_mode": {
    "name": "ipython",
    "version": 3
   },
   "file_extension": ".py",
   "mimetype": "text/x-python",
   "name": "python",
   "nbconvert_exporter": "python",
   "pygments_lexer": "ipython3",
   "version": "3.9.13"
  }
 },
 "nbformat": 4,
 "nbformat_minor": 4
}
