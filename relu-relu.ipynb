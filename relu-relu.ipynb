{
 "cells": [
  {
   "cell_type": "code",
   "execution_count": 10,
   "metadata": {
    "_cell_guid": "b1076dfc-b9ad-4769-8c92-a6c4dae69d19",
    "_uuid": "8f2839f25d086af736a60e9eeb907d3b93b6e0e5",
    "execution": {
     "iopub.execute_input": "2023-02-10T19:45:24.787257Z",
     "iopub.status.busy": "2023-02-10T19:45:24.786830Z",
     "iopub.status.idle": "2023-02-10T19:45:24.793245Z",
     "shell.execute_reply": "2023-02-10T19:45:24.791985Z",
     "shell.execute_reply.started": "2023-02-10T19:45:24.787224Z"
    }
   },
   "outputs": [],
   "source": [
    "# import knihoven\n",
    "import numpy as np # lineární algebra, počítání s vektory, maticemi\n",
    "from matplotlib import pyplot as plt # vizualizace grafů, obrázků\n",
    "import pandas as pd # v tomto programu pouze načtení dat, obecně nástroj pro manipulaci s daty\n",
    "from random import randint"
   ]
  },
  {
   "cell_type": "code",
   "execution_count": 11,
   "metadata": {
    "execution": {
     "iopub.execute_input": "2023-02-10T19:45:27.652836Z",
     "iopub.status.busy": "2023-02-10T19:45:27.652398Z",
     "iopub.status.idle": "2023-02-10T19:45:31.580451Z",
     "shell.execute_reply": "2023-02-10T19:45:31.579267Z",
     "shell.execute_reply.started": "2023-02-10T19:45:27.652802Z"
    }
   },
   "outputs": [],
   "source": [
    "data_pd = pd.read_csv('train.csv') # načtení tréninkových dat pomocí pandas"
   ]
  },
  {
   "cell_type": "code",
   "execution_count": 12,
   "metadata": {
    "execution": {
     "iopub.execute_input": "2023-02-10T19:45:34.357104Z",
     "iopub.status.busy": "2023-02-10T19:45:34.356492Z",
     "iopub.status.idle": "2023-02-10T19:45:34.391535Z",
     "shell.execute_reply": "2023-02-10T19:45:34.390158Z",
     "shell.execute_reply.started": "2023-02-10T19:45:34.357060Z"
    }
   },
   "outputs": [
    {
     "data": {
      "text/html": [
       "<div>\n",
       "<style scoped>\n",
       "    .dataframe tbody tr th:only-of-type {\n",
       "        vertical-align: middle;\n",
       "    }\n",
       "\n",
       "    .dataframe tbody tr th {\n",
       "        vertical-align: top;\n",
       "    }\n",
       "\n",
       "    .dataframe thead th {\n",
       "        text-align: right;\n",
       "    }\n",
       "</style>\n",
       "<table border=\"1\" class=\"dataframe\">\n",
       "  <thead>\n",
       "    <tr style=\"text-align: right;\">\n",
       "      <th></th>\n",
       "      <th>label</th>\n",
       "      <th>pixel0</th>\n",
       "      <th>pixel1</th>\n",
       "      <th>pixel2</th>\n",
       "      <th>pixel3</th>\n",
       "      <th>pixel4</th>\n",
       "      <th>pixel5</th>\n",
       "      <th>pixel6</th>\n",
       "      <th>pixel7</th>\n",
       "      <th>pixel8</th>\n",
       "      <th>...</th>\n",
       "      <th>pixel774</th>\n",
       "      <th>pixel775</th>\n",
       "      <th>pixel776</th>\n",
       "      <th>pixel777</th>\n",
       "      <th>pixel778</th>\n",
       "      <th>pixel779</th>\n",
       "      <th>pixel780</th>\n",
       "      <th>pixel781</th>\n",
       "      <th>pixel782</th>\n",
       "      <th>pixel783</th>\n",
       "    </tr>\n",
       "  </thead>\n",
       "  <tbody>\n",
       "    <tr>\n",
       "      <th>0</th>\n",
       "      <td>1</td>\n",
       "      <td>0</td>\n",
       "      <td>0</td>\n",
       "      <td>0</td>\n",
       "      <td>0</td>\n",
       "      <td>0</td>\n",
       "      <td>0</td>\n",
       "      <td>0</td>\n",
       "      <td>0</td>\n",
       "      <td>0</td>\n",
       "      <td>...</td>\n",
       "      <td>0</td>\n",
       "      <td>0</td>\n",
       "      <td>0</td>\n",
       "      <td>0</td>\n",
       "      <td>0</td>\n",
       "      <td>0</td>\n",
       "      <td>0</td>\n",
       "      <td>0</td>\n",
       "      <td>0</td>\n",
       "      <td>0</td>\n",
       "    </tr>\n",
       "    <tr>\n",
       "      <th>1</th>\n",
       "      <td>0</td>\n",
       "      <td>0</td>\n",
       "      <td>0</td>\n",
       "      <td>0</td>\n",
       "      <td>0</td>\n",
       "      <td>0</td>\n",
       "      <td>0</td>\n",
       "      <td>0</td>\n",
       "      <td>0</td>\n",
       "      <td>0</td>\n",
       "      <td>...</td>\n",
       "      <td>0</td>\n",
       "      <td>0</td>\n",
       "      <td>0</td>\n",
       "      <td>0</td>\n",
       "      <td>0</td>\n",
       "      <td>0</td>\n",
       "      <td>0</td>\n",
       "      <td>0</td>\n",
       "      <td>0</td>\n",
       "      <td>0</td>\n",
       "    </tr>\n",
       "    <tr>\n",
       "      <th>2</th>\n",
       "      <td>1</td>\n",
       "      <td>0</td>\n",
       "      <td>0</td>\n",
       "      <td>0</td>\n",
       "      <td>0</td>\n",
       "      <td>0</td>\n",
       "      <td>0</td>\n",
       "      <td>0</td>\n",
       "      <td>0</td>\n",
       "      <td>0</td>\n",
       "      <td>...</td>\n",
       "      <td>0</td>\n",
       "      <td>0</td>\n",
       "      <td>0</td>\n",
       "      <td>0</td>\n",
       "      <td>0</td>\n",
       "      <td>0</td>\n",
       "      <td>0</td>\n",
       "      <td>0</td>\n",
       "      <td>0</td>\n",
       "      <td>0</td>\n",
       "    </tr>\n",
       "    <tr>\n",
       "      <th>3</th>\n",
       "      <td>4</td>\n",
       "      <td>0</td>\n",
       "      <td>0</td>\n",
       "      <td>0</td>\n",
       "      <td>0</td>\n",
       "      <td>0</td>\n",
       "      <td>0</td>\n",
       "      <td>0</td>\n",
       "      <td>0</td>\n",
       "      <td>0</td>\n",
       "      <td>...</td>\n",
       "      <td>0</td>\n",
       "      <td>0</td>\n",
       "      <td>0</td>\n",
       "      <td>0</td>\n",
       "      <td>0</td>\n",
       "      <td>0</td>\n",
       "      <td>0</td>\n",
       "      <td>0</td>\n",
       "      <td>0</td>\n",
       "      <td>0</td>\n",
       "    </tr>\n",
       "    <tr>\n",
       "      <th>4</th>\n",
       "      <td>0</td>\n",
       "      <td>0</td>\n",
       "      <td>0</td>\n",
       "      <td>0</td>\n",
       "      <td>0</td>\n",
       "      <td>0</td>\n",
       "      <td>0</td>\n",
       "      <td>0</td>\n",
       "      <td>0</td>\n",
       "      <td>0</td>\n",
       "      <td>...</td>\n",
       "      <td>0</td>\n",
       "      <td>0</td>\n",
       "      <td>0</td>\n",
       "      <td>0</td>\n",
       "      <td>0</td>\n",
       "      <td>0</td>\n",
       "      <td>0</td>\n",
       "      <td>0</td>\n",
       "      <td>0</td>\n",
       "      <td>0</td>\n",
       "    </tr>\n",
       "  </tbody>\n",
       "</table>\n",
       "<p>5 rows × 785 columns</p>\n",
       "</div>"
      ],
      "text/plain": [
       "   label  pixel0  pixel1  pixel2  pixel3  pixel4  pixel5  pixel6  pixel7  \\\n",
       "0      1       0       0       0       0       0       0       0       0   \n",
       "1      0       0       0       0       0       0       0       0       0   \n",
       "2      1       0       0       0       0       0       0       0       0   \n",
       "3      4       0       0       0       0       0       0       0       0   \n",
       "4      0       0       0       0       0       0       0       0       0   \n",
       "\n",
       "   pixel8  ...  pixel774  pixel775  pixel776  pixel777  pixel778  pixel779  \\\n",
       "0       0  ...         0         0         0         0         0         0   \n",
       "1       0  ...         0         0         0         0         0         0   \n",
       "2       0  ...         0         0         0         0         0         0   \n",
       "3       0  ...         0         0         0         0         0         0   \n",
       "4       0  ...         0         0         0         0         0         0   \n",
       "\n",
       "   pixel780  pixel781  pixel782  pixel783  \n",
       "0         0         0         0         0  \n",
       "1         0         0         0         0  \n",
       "2         0         0         0         0  \n",
       "3         0         0         0         0  \n",
       "4         0         0         0         0  \n",
       "\n",
       "[5 rows x 785 columns]"
      ]
     },
     "execution_count": 12,
     "metadata": {},
     "output_type": "execute_result"
    }
   ],
   "source": [
    "data_pd.head() # zobrazení dat "
   ]
  },
  {
   "cell_type": "code",
   "execution_count": 13,
   "metadata": {
    "execution": {
     "iopub.execute_input": "2023-02-10T19:45:38.697842Z",
     "iopub.status.busy": "2023-02-10T19:45:38.697407Z",
     "iopub.status.idle": "2023-02-10T19:45:39.554513Z",
     "shell.execute_reply": "2023-02-10T19:45:39.553170Z",
     "shell.execute_reply.started": "2023-02-10T19:45:38.697806Z"
    }
   },
   "outputs": [],
   "source": [
    "data = np.array(data_pd) # převod dat z pandas dataframe do numpy array (matice)\n",
    "np.random.shuffle(data) # náhodně zamíchá data\n",
    "m, n = np.shape(data) # m - počet řádků (záznamů), n - počet sloupců (pixely (vstupní data) + label (správná výstupní hodnota))\n",
    "\n",
    "# rozdělení dat na trénovací a vývojová data, aby nedošlo k overfittingu\n",
    "\n",
    "# development set (prvních 1000 řádků), 0 - 1000 bez 1000. záznamu\n",
    "data_dev = data[0:1000].T # .T - transponováno - jeden záznam je nyní jeden sloupec, ne řádek (nutné pro správné násobení matic)\n",
    "Y_dev = data_dev[0] # správné výstupní hodnoty Y (label), [řádky, sloupce], stejný zápis - [0,:] (nultý řádek a všechny sloupce)\n",
    "X_dev = data_dev[1:n] # pixely\n",
    "X_dev = X_dev / 255\n",
    "\n",
    "# training set (zbývající řádky)\n",
    "data_train = data[1000:m].T\n",
    "Y_train = data_train[0]\n",
    "X_train = data_train[1:n]\n",
    "X_train = X_train / 255"
   ]
  },
  {
   "cell_type": "markdown",
   "metadata": {},
   "source": [
    "1. Training set - as the name suggests, this data set is used to train your classifier. It takes major chunk of your original data set.\n",
    "2. Development set - used during evaluation of your classifier with different configurations or, variations in the feature representation. Its called development set, since you are using it while developing your classifier. It can be a bit biased, that's why we need third kind of data set.\n",
    "3. Test set - Data set on which you finally check the accuracy of your classifier and get the unbiased results.\n",
    "\n",
    "Zdroj: https://qr.ae/pr4y4j\n",
    "\n",
    "**Generalizace** - generalizace, neboli zevšeobecňování, je jedním z hlavních cílů neuronové sítě. Jde o schopnost rozlišit a zařadit do správné kategorie i ty záznamy, se kterými se algoritmus ještě nikdy nesetkal.\n",
    "\n",
    "**Overfitting** - opak generalizace. Overfitting znamená, že na trénovacích datech má algoritmus téměř 100% úspěšnost správného zařazení, ale není schopný rozpoznat nové záznamy. Děje se to proto, že algoritmus se trénovací data naučí v podstatě nazpaměť. Abychom overfittingu předešli, dělí se vstupní data na trénovací, ty na kterých se algoritmus trénuje, vývojová, na těch se algoritmus testuje v průběhu učení (kromě výkonu zde testujeme třeba i hyperparametry), a testovací, na těch se algoritmus testuje až po dokončení učebního procesu. Výsledky po testování testovacími daty by měly být nezkreslené a měly by pravdivě vypovídat o výkonu neuronové sítě. "
   ]
  },
  {
   "cell_type": "code",
   "execution_count": 5,
   "metadata": {
    "execution": {
     "iopub.execute_input": "2023-01-30T21:53:11.527851Z",
     "iopub.status.busy": "2023-01-30T21:53:11.526193Z",
     "iopub.status.idle": "2023-01-30T21:53:11.535385Z",
     "shell.execute_reply": "2023-01-30T21:53:11.534168Z",
     "shell.execute_reply.started": "2023-01-30T21:53:11.527786Z"
    }
   },
   "outputs": [
    {
     "data": {
      "text/plain": [
       "42000"
      ]
     },
     "execution_count": 5,
     "metadata": {},
     "output_type": "execute_result"
    }
   ],
   "source": [
    "m # počet záznamů"
   ]
  },
  {
   "cell_type": "code",
   "execution_count": 6,
   "metadata": {
    "execution": {
     "iopub.execute_input": "2023-01-29T12:34:38.246622Z",
     "iopub.status.busy": "2023-01-29T12:34:38.245811Z",
     "iopub.status.idle": "2023-01-29T12:34:38.254956Z",
     "shell.execute_reply": "2023-01-29T12:34:38.253755Z",
     "shell.execute_reply.started": "2023-01-29T12:34:38.246546Z"
    }
   },
   "outputs": [
    {
     "data": {
      "text/plain": [
       "785"
      ]
     },
     "execution_count": 6,
     "metadata": {},
     "output_type": "execute_result"
    }
   ],
   "source": [
    "n # počet dat v jednom záznamu (pixely + label)"
   ]
  },
  {
   "cell_type": "code",
   "execution_count": 7,
   "metadata": {
    "execution": {
     "iopub.execute_input": "2023-01-29T14:21:48.575625Z",
     "iopub.status.busy": "2023-01-29T14:21:48.575099Z",
     "iopub.status.idle": "2023-01-29T14:21:48.584186Z",
     "shell.execute_reply": "2023-01-29T14:21:48.583105Z",
     "shell.execute_reply.started": "2023-01-29T14:21:48.575585Z"
    }
   },
   "outputs": [
    {
     "data": {
      "text/plain": [
       "32144000"
      ]
     },
     "execution_count": 7,
     "metadata": {},
     "output_type": "execute_result"
    }
   ],
   "source": [
    "X_train.size"
   ]
  },
  {
   "cell_type": "code",
   "execution_count": 5,
   "metadata": {
    "execution": {
     "iopub.execute_input": "2023-02-10T19:45:48.319660Z",
     "iopub.status.busy": "2023-02-10T19:45:48.319239Z",
     "iopub.status.idle": "2023-02-10T19:45:48.327617Z",
     "shell.execute_reply": "2023-02-10T19:45:48.326425Z",
     "shell.execute_reply.started": "2023-02-10T19:45:48.319623Z"
    }
   },
   "outputs": [],
   "source": [
    "# počáteční vytvoření náhodných parametrů\n",
    "def inicializace_parametru():\n",
    "    W1 = np.random.rand(16, 784) - 0.5 \n",
    "    # váhové koeficienty první vrstvy\n",
    "    # matice o rozměrech 10 × 784 (každý vstup (pixel) propojený s každým neuronem 1. vrstvy)\n",
    "    # np.random.rand - rozsah [0, 1), - 0.5 -> rozsah [-0.5, 0.5)\n",
    "    b1 = np.random.rand(16,1) - 0.5 # prahové hodnoty první vrstvy (pro každý neuron 1. vrstvy 1)\n",
    "    W2 = np.random.rand(16, 16) - 0.5 # váhy 2. vrstvy (každý neuron z 1. vrstvy propojen s každým neuronem ze 2. vrstvy)\n",
    "    b2 = np.random.rand(16, 1) - 0.5 # prahy 2. vrstvy (pro každý neuron 2. vrstvy 1)\n",
    "    W3 = np.random.rand(10, 16) - 0.5 # váhy 3. vrstvy\n",
    "    b3 = np.random.rand(10, 1) - 0.5 # prahy 3. vrstvy\n",
    "    return W1, b1, W2, b2, W3, b3"
   ]
  },
  {
   "cell_type": "markdown",
   "metadata": {},
   "source": [
    "**Dopředná propagace (forward propagation)**\n",
    "Dopředná propagace, častěji nazývaná anglickým názvem forward propagation, je proces vypočítávání výsledku, tedy pravděpodobnosti, že se jedná o určitý výstup. Postupuje se při ní od vstupní vrstvy k výstupní, proto dopředná. \n",
    "\n",
    "**Zpětná propagace (backward propagation)**\n",
    "Zpětná propagace, neboli backpropagation, je opakem forward propagation. Místo výsledku při ní počítáme chybu, které se algoritmus při odhadování dopustil, a na základě těchto zjištění můžeme upravovat hodnoty parametrů."
   ]
  },
  {
   "cell_type": "code",
   "execution_count": 6,
   "metadata": {
    "execution": {
     "iopub.execute_input": "2023-02-10T19:45:53.151651Z",
     "iopub.status.busy": "2023-02-10T19:45:53.151231Z",
     "iopub.status.idle": "2023-02-10T19:45:53.160098Z",
     "shell.execute_reply": "2023-02-10T19:45:53.159061Z",
     "shell.execute_reply.started": "2023-02-10T19:45:53.151617Z"
    }
   },
   "outputs": [],
   "source": [
    "## forward propagation\n",
    "\n",
    "def ReLU(X, derivace = False):\n",
    "    if derivace:\n",
    "        return X > 0 # větší než 1 -> true -> 1, menší než 0 -> false -> 0\n",
    "    return np.maximum(0, X)\n",
    "\n",
    "def ReLU_rozepsane(X):\n",
    "    if X <= 0:\n",
    "        v = 0\n",
    "    else:\n",
    "        v = X\n",
    "    return v\n",
    "\n",
    "def softmax(X):\n",
    "    return np.exp(X) / sum(np.exp(X))\n",
    "\n",
    "def dopredna_propagace(W1, b1, W2, b2, W3, b3, X): \n",
    "    Z1 = W1.dot(X) + b1\n",
    "    A1 = ReLU(Z1)\n",
    "    Z2 = W2.dot(A1) + b2\n",
    "    A2 = ReLU(Z2)\n",
    "    Z3 = W3.dot(A2) + b3\n",
    "    A3 = softmax(Z3)\n",
    "    return Z1, A1, Z2, A2, Z3, A3"
   ]
  },
  {
   "cell_type": "code",
   "execution_count": 7,
   "metadata": {
    "execution": {
     "iopub.execute_input": "2023-02-10T19:45:58.591019Z",
     "iopub.status.busy": "2023-02-10T19:45:58.590591Z",
     "iopub.status.idle": "2023-02-10T19:45:58.603656Z",
     "shell.execute_reply": "2023-02-10T19:45:58.601995Z",
     "shell.execute_reply.started": "2023-02-10T19:45:58.590987Z"
    }
   },
   "outputs": [],
   "source": [
    "## backpropagation\n",
    "\n",
    "def zakoduj_odpoved(Y):\n",
    "    zakodovana_odpoved = np.zeros((Y.size, Y.max() + 1)) # matice (počet záznamů × největší záznam (9) + 1)\n",
    "    zakodovana_odpoved[np.arange(Y.size), Y] = 1\n",
    "    zakodovana_odpoved = zakodovana_odpoved.T\n",
    "    return zakodovana_odpoved\n",
    "\n",
    "def zpetna_propagace(Z1, A1, Z2, W2, A2, W3, A3, X, Y):\n",
    "    m = Y.size\n",
    "    Y = zakoduj_odpoved(Y)\n",
    "    \n",
    "    dZ3 = A3 - Y\n",
    "    dW3 = 1 / m * dZ3.dot(A2.T)\n",
    "    db3 = 1 / m * np.sum(dZ3)\n",
    "    \n",
    "    dZ2 = W3.T.dot(dZ3) * ReLU(Z2, derivace = True)\n",
    "    dW2 = 1 / m * dZ2.dot(A1.T)\n",
    "    db2 = 1 / m * np.sum(dZ2)\n",
    "    \n",
    "    dZ1 = W2.T.dot(dZ2) * ReLU(Z1, derivace = True)\n",
    "    dW1 = 1 / m * dZ1.dot(X.T)\n",
    "    db1 = 1 / m * np.sum(dZ1)\n",
    "    \n",
    "    return dW1, db1, dW2, db2, dW3, db3\n",
    "\n",
    "def uprava_parametru(W1, b1, W2, b2, W3, b3, dW1, db1, dW2, db2, dW3, db3, alpha):\n",
    "    W1 = W1 - alpha * dW1\n",
    "    b1 = b1 - alpha * db1\n",
    "    W2 = W2 - alpha * dW2\n",
    "    b2 = b2 - alpha * db2\n",
    "    W3 = W3 - alpha * dW3\n",
    "    b3 = b3 - alpha * db3\n",
    "    return W1, b1, W2, b2, W3, b3"
   ]
  },
  {
   "cell_type": "code",
   "execution_count": 8,
   "metadata": {
    "execution": {
     "iopub.execute_input": "2023-02-10T19:46:17.292661Z",
     "iopub.status.busy": "2023-02-10T19:46:17.292235Z",
     "iopub.status.idle": "2023-02-10T19:46:17.303690Z",
     "shell.execute_reply": "2023-02-10T19:46:17.302379Z",
     "shell.execute_reply.started": "2023-02-10T19:46:17.292627Z"
    }
   },
   "outputs": [],
   "source": [
    "def odhady(A):\n",
    "    odhady = np.argmax(A, axis=0)\n",
    "    return odhady\n",
    "\n",
    "def zjisti_presnost(odhady, Y):\n",
    "    return np.sum(odhady == Y) / Y.size\n",
    "\n",
    "#gradientní sestup\n",
    "def gradientni_sestup(X, Y, iterace, alpha):\n",
    "    W1, b1, W2, b2, W3, b3 = inicializace_parametru()\n",
    "    presnosti = np.zeros(iterace)\n",
    "    for i in range(iterace):\n",
    "        Z1, A1, Z2, A2, Z3, A3 = dopredna_propagace(W1, b1, W2, b2, W3, b3, X)\n",
    "        dW1, db1, dW2, db2, dW3, db3 = zpetna_propagace(Z1, A1, Z2, W2, A2, W3, A3, X, Y)\n",
    "        W1, b1, W2, b2, W3, b3 = uprava_parametru(W1, b1, W2, b2, W3, b3, dW1, db1, dW2, db2, dW3, db3, alpha)\n",
    "        \n",
    "        odhad = odhady(A3)\n",
    "        presnost = zjisti_presnost(odhad, Y)\n",
    "        presnosti[i] = presnost\n",
    "        if i % 50 == 0:\n",
    "            print(i, '. iterace')\n",
    "            print(odhad, Y)\n",
    "            print('Přesnost: ', presnost)\n",
    "    return W1, b1, W2, b2, W3, b3, presnosti"
   ]
  },
  {
   "cell_type": "code",
   "execution_count": 9,
   "metadata": {
    "execution": {
     "iopub.execute_input": "2023-02-10T19:46:25.205828Z",
     "iopub.status.busy": "2023-02-10T19:46:25.205415Z",
     "iopub.status.idle": "2023-02-10T19:48:02.289495Z",
     "shell.execute_reply": "2023-02-10T19:48:02.287816Z",
     "shell.execute_reply.started": "2023-02-10T19:46:25.205792Z"
    }
   },
   "outputs": [
    {
     "name": "stdout",
     "output_type": "stream",
     "text": [
      "0 . iterace\n",
      "[4 4 5 ... 3 0 5] [7 6 1 ... 4 2 2]\n",
      "Přesnost:  0.09297560975609756\n",
      "50 . iterace\n",
      "[4 4 1 ... 6 0 2] [7 6 1 ... 4 2 2]\n",
      "Přesnost:  0.4258780487804878\n",
      "100 . iterace\n",
      "[9 6 1 ... 4 0 2] [7 6 1 ... 4 2 2]\n",
      "Přesnost:  0.6198292682926829\n",
      "150 . iterace\n",
      "[7 6 1 ... 4 0 2] [7 6 1 ... 4 2 2]\n",
      "Přesnost:  0.6939756097560975\n",
      "200 . iterace\n",
      "[7 6 1 ... 4 0 2] [7 6 1 ... 4 2 2]\n",
      "Přesnost:  0.7576341463414634\n",
      "250 . iterace\n",
      "[7 6 1 ... 4 0 2] [7 6 1 ... 4 2 2]\n",
      "Přesnost:  0.7934878048780488\n",
      "300 . iterace\n",
      "[7 6 1 ... 4 0 2] [7 6 1 ... 4 2 2]\n",
      "Přesnost:  0.8150487804878048\n",
      "350 . iterace\n",
      "[7 6 1 ... 4 0 2] [7 6 1 ... 4 2 2]\n",
      "Přesnost:  0.8307317073170731\n",
      "400 . iterace\n",
      "[7 6 1 ... 4 0 2] [7 6 1 ... 4 2 2]\n",
      "Přesnost:  0.8418536585365853\n",
      "450 . iterace\n",
      "[7 6 1 ... 4 0 2] [7 6 1 ... 4 2 2]\n",
      "Přesnost:  0.8500243902439024\n"
     ]
    }
   ],
   "source": [
    "W1, b1, W2, b2, W3, b3, presnosti = gradientni_sestup(X_train, Y_train, 500, 0.1)"
   ]
  },
  {
   "cell_type": "code",
   "execution_count": 13,
   "metadata": {
    "execution": {
     "iopub.execute_input": "2023-02-10T19:48:17.642207Z",
     "iopub.status.busy": "2023-02-10T19:48:17.641775Z",
     "iopub.status.idle": "2023-02-10T19:48:18.008398Z",
     "shell.execute_reply": "2023-02-10T19:48:18.007414Z",
     "shell.execute_reply.started": "2023-02-10T19:48:17.642169Z"
    }
   },
   "outputs": [
    {
     "data": {
      "image/png": "[encoded data removed]",
      "text/plain": [
       "<Figure size 1200x600 with 1 Axes>"
      ]
     },
     "metadata": {},
     "output_type": "display_data"
    }
   ],
   "source": [
    "%matplotlib inline\n",
    "pocet_presnosti = presnosti.size\n",
    "osa_x = np.linspace(0, pocet_presnosti, pocet_presnosti)\n",
    "plt.figure(figsize=(12,6))\n",
    "plt.plot(osa_x, presnosti)\n",
    "plt.xlabel('iterace')\n",
    "plt.ylabel('přesnost')\n",
    "plt.title('Vývoj přesnosti')\n",
    "plt.tight_layout()"
   ]
  },
  {
   "cell_type": "code",
   "execution_count": 14,
   "metadata": {
    "execution": {
     "iopub.execute_input": "2023-01-30T09:28:52.151878Z",
     "iopub.status.busy": "2023-01-30T09:28:52.151162Z",
     "iopub.status.idle": "2023-01-30T09:28:52.159801Z",
     "shell.execute_reply": "2023-01-30T09:28:52.158530Z",
     "shell.execute_reply.started": "2023-01-30T09:28:52.151839Z"
    }
   },
   "outputs": [
    {
     "data": {
      "text/plain": [
       "array([[-0.11136547],\n",
       "       [ 0.26155276],\n",
       "       [-0.10826906],\n",
       "       [ 0.65163682],\n",
       "       [ 0.19542845],\n",
       "       [ 0.12416529],\n",
       "       [ 0.52869812],\n",
       "       [ 0.5099068 ],\n",
       "       [ 0.59296552],\n",
       "       [-0.09103888],\n",
       "       [ 0.11706286],\n",
       "       [-0.28160858],\n",
       "       [ 0.33817746],\n",
       "       [-0.28168257],\n",
       "       [ 0.46961734],\n",
       "       [-0.30424569]])"
      ]
     },
     "execution_count": 14,
     "metadata": {},
     "output_type": "execute_result"
    }
   ],
   "source": [
    "b2"
   ]
  },
  {
   "cell_type": "code",
   "execution_count": 15,
   "metadata": {
    "execution": {
     "iopub.execute_input": "2023-02-10T19:49:31.716619Z",
     "iopub.status.busy": "2023-02-10T19:49:31.716200Z",
     "iopub.status.idle": "2023-02-10T19:49:31.726397Z",
     "shell.execute_reply": "2023-02-10T19:49:31.725228Z",
     "shell.execute_reply.started": "2023-02-10T19:49:31.716589Z"
    }
   },
   "outputs": [],
   "source": [
    "def test_samostatne(index, W1, b1, W2, b2, W3, b3, X, Y):\n",
    "    obrazek = X[:, index, None]\n",
    "    _, _, _, _, _, A3 = dopredna_propagace(W1, b1, W2, b2, W3, b3, obrazek)\n",
    "    odhad = odhady(A3)\n",
    "    print('Odhad: ', odhad)\n",
    "    print('Správné: ', Y[index])\n",
    "    \n",
    "    obrazek = obrazek.reshape(28,28) * 255\n",
    "    plt.gray()\n",
    "    plt.imshow(obrazek)\n",
    "    plt.show()\n",
    "    \n",
    "def test(W1, b1, W2, b2, W3, b3, X, Y):\n",
    "    _, _, _, _, _, A3 = dopredna_propagace(W1, b1, W2, b2, W3, b3, X)\n",
    "    odhad = odhady(A3)\n",
    "    presnost = zjisti_presnost(odhad, Y)\n",
    "    return presnost"
   ]
  },
  {
   "cell_type": "code",
   "execution_count": 16,
   "metadata": {
    "execution": {
     "iopub.execute_input": "2023-02-10T19:48:41.930760Z",
     "iopub.status.busy": "2023-02-10T19:48:41.930345Z",
     "iopub.status.idle": "2023-02-10T19:48:44.138981Z",
     "shell.execute_reply": "2023-02-10T19:48:44.137744Z",
     "shell.execute_reply.started": "2023-02-10T19:48:41.930712Z"
    }
   },
   "outputs": [
    {
     "name": "stdout",
     "output_type": "stream",
     "text": [
      "Odhad:  [4]\n",
      "Správné:  4\n"
     ]
    },
    {
     "data": {
      "image/png": "[encoded data removed]",
      "text/plain": [
       "<Figure size 640x480 with 1 Axes>"
      ]
     },
     "metadata": {},
     "output_type": "display_data"
    },
    {
     "name": "stdout",
     "output_type": "stream",
     "text": [
      "Odhad:  [4]\n",
      "Správné:  4\n"
     ]
    },
    {
     "data": {
      "image/png": "[encoded data removed]",
      "text/plain": [
       "<Figure size 640x480 with 1 Axes>"
      ]
     },
     "metadata": {},
     "output_type": "display_data"
    },
    {
     "name": "stdout",
     "output_type": "stream",
     "text": [
      "Odhad:  [9]\n",
      "Správné:  9\n"
     ]
    },
    {
     "data": {
      "image/png": "[encoded data removed]",
      "text/plain": [
       "<Figure size 640x480 with 1 Axes>"
      ]
     },
     "metadata": {},
     "output_type": "display_data"
    },
    {
     "name": "stdout",
     "output_type": "stream",
     "text": [
      "Odhad:  [0]\n",
      "Správné:  0\n"
     ]
    },
    {
     "data": {
      "image/png": "[encoded data removed]",
      "text/plain": [
       "<Figure size 640x480 with 1 Axes>"
      ]
     },
     "metadata": {},
     "output_type": "display_data"
    },
    {
     "name": "stdout",
     "output_type": "stream",
     "text": [
      "Odhad:  [3]\n",
      "Správné:  3\n"
     ]
    },
    {
     "data": {
      "image/png": "[encoded data removed]",
      "text/plain": [
       "<Figure size 640x480 with 1 Axes>"
      ]
     },
     "metadata": {},
     "output_type": "display_data"
    },
    {
     "name": "stdout",
     "output_type": "stream",
     "text": [
      "Odhad:  [6]\n",
      "Správné:  6\n"
     ]
    },
    {
     "data": {
      "image/png": "[encoded data removed]",
      "text/plain": [
       "<Figure size 640x480 with 1 Axes>"
      ]
     },
     "metadata": {},
     "output_type": "display_data"
    },
    {
     "name": "stdout",
     "output_type": "stream",
     "text": [
      "Odhad:  [0]\n",
      "Správné:  0\n"
     ]
    },
    {
     "data": {
      "image/png": "[encoded data removed]",
      "text/plain": [
       "<Figure size 640x480 with 1 Axes>"
      ]
     },
     "metadata": {},
     "output_type": "display_data"
    },
    {
     "name": "stdout",
     "output_type": "stream",
     "text": [
      "Odhad:  [8]\n",
      "Správné:  8\n"
     ]
    },
    {
     "data": {
      "image/png": "[encoded data removed]",
      "text/plain": [
       "<Figure size 640x480 with 1 Axes>"
      ]
     },
     "metadata": {},
     "output_type": "display_data"
    },
    {
     "name": "stdout",
     "output_type": "stream",
     "text": [
      "Odhad:  [5]\n",
      "Správné:  0\n"
     ]
    },
    {
     "data": {
      "image/png": "[encoded data removed]",
      "text/plain": [
       "<Figure size 640x480 with 1 Axes>"
      ]
     },
     "metadata": {},
     "output_type": "display_data"
    },
    {
     "name": "stdout",
     "output_type": "stream",
     "text": [
      "Odhad:  [0]\n",
      "Správné:  0\n"
     ]
    },
    {
     "data": {
      "image/png": "[encoded data removed]",
      "text/plain": [
       "<Figure size 640x480 with 1 Axes>"
      ]
     },
     "metadata": {},
     "output_type": "display_data"
    }
   ],
   "source": [
    "rozsah = 10\n",
    "a = np.random.randint(0,Y_dev.size - rozsah)\n",
    "for i in range(a, a + rozsah):\n",
    "    test_samostatne(i, W1, b1, W2, b2, W3, b3, X_dev, Y_dev)"
   ]
  },
  {
   "cell_type": "code",
   "execution_count": 14,
   "metadata": {
    "execution": {
     "iopub.execute_input": "2023-02-10T19:49:38.534524Z",
     "iopub.status.busy": "2023-02-10T19:49:38.534033Z",
     "iopub.status.idle": "2023-02-10T19:49:38.551508Z",
     "shell.execute_reply": "2023-02-10T19:49:38.549183Z",
     "shell.execute_reply.started": "2023-02-10T19:49:38.534483Z"
    }
   },
   "outputs": [
    {
     "ename": "NameError",
     "evalue": "name 'test' is not defined",
     "output_type": "error",
     "traceback": [
      "\u001b[1;31m---------------------------------------------------------------------------\u001b[0m",
      "\u001b[1;31mNameError\u001b[0m                                 Traceback (most recent call last)",
      "\u001b[1;32m~\\AppData\\Local\\Temp\\ipykernel_11648\\152462396.py\u001b[0m in \u001b[0;36m<module>\u001b[1;34m\u001b[0m\n\u001b[1;32m----> 1\u001b[1;33m \u001b[0mpresnost\u001b[0m \u001b[1;33m=\u001b[0m \u001b[0mtest\u001b[0m\u001b[1;33m(\u001b[0m\u001b[0mW1\u001b[0m\u001b[1;33m,\u001b[0m \u001b[0mb1\u001b[0m\u001b[1;33m,\u001b[0m \u001b[0mW2\u001b[0m\u001b[1;33m,\u001b[0m \u001b[0mb2\u001b[0m\u001b[1;33m,\u001b[0m \u001b[0mW3\u001b[0m\u001b[1;33m,\u001b[0m \u001b[0mb3\u001b[0m\u001b[1;33m,\u001b[0m \u001b[0mX_dev\u001b[0m\u001b[1;33m,\u001b[0m \u001b[0mY_dev\u001b[0m\u001b[1;33m)\u001b[0m\u001b[1;33m\u001b[0m\u001b[1;33m\u001b[0m\u001b[0m\n\u001b[0m\u001b[0;32m      2\u001b[0m \u001b[0mprint\u001b[0m\u001b[1;33m(\u001b[0m\u001b[1;34m'Přesnost: '\u001b[0m\u001b[1;33m,\u001b[0m \u001b[0mpresnost\u001b[0m \u001b[1;33m*\u001b[0m \u001b[1;36m100\u001b[0m \u001b[1;33m,\u001b[0m  \u001b[1;34m' %'\u001b[0m\u001b[1;33m)\u001b[0m\u001b[1;33m\u001b[0m\u001b[1;33m\u001b[0m\u001b[0m\n",
      "\u001b[1;31mNameError\u001b[0m: name 'test' is not defined"
     ]
    }
   ],
   "source": [
    "presnost = test(W1, b1, W2, b2, W3, b3, X_dev, Y_dev)\n",
    "print('Přesnost: ', presnost * 100 ,  ' %')"
   ]
  },
  {
   "cell_type": "code",
   "execution_count": null,
   "metadata": {},
   "outputs": [],
   "source": []
  }
 ],
 "metadata": {
  "kernelspec": {
   "display_name": "Python 3 (ipykernel)",
   "language": "python",
   "name": "python3"
  },
  "language_info": {
   "codemirror_mode": {
    "name": "ipython",
    "version": 3
   },
   "file_extension": ".py",
   "mimetype": "text/x-python",
   "name": "python",
   "nbconvert_exporter": "python",
   "pygments_lexer": "ipython3",
   "version": "3.9.13"
  }
 },
 "nbformat": 4,
 "nbformat_minor": 4
}
